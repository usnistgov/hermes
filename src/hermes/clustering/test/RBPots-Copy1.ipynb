{
 "cells": [
  {
   "cell_type": "code",
   "execution_count": 1,
   "id": "f905cb4f-dc49-40f9-af91-059883983c85",
   "metadata": {},
   "outputs": [
    {
     "name": "stderr",
     "output_type": "stream",
     "text": [
      "/Users/camilovelezr/miniforge3/envs/hermes2/lib/python3.11/site-packages/pydantic/_internal/_generate_schema.py:394: UserWarning: <built-in function array> is not a Python type (it may be an instance of an object), Pydantic will allow any object with no validation since we cannot even enforce that the input is an instance of the given type. To get rid of this error wrap the type with `pydantic.SkipValidation`.\n",
      "  warn(\n"
     ]
    }
   ],
   "source": [
    "from hermes.clustering import RBPots\n",
    "import numpy as np\n",
    "import networkx as nx"
   ]
  },
  {
   "cell_type": "code",
   "execution_count": 2,
   "id": "3d21d4c8-4fa3-486e-82a9-c010fb902131",
   "metadata": {},
   "outputs": [
    {
     "name": "stderr",
     "output_type": "stream",
     "text": [
      "#0 building with \"desktop-linux\" instance using docker driver\n",
      "\n",
      "#1 [internal] load build definition from Dockerfile\n",
      "#1 transferring dockerfile: 465B done\n",
      "#1 DONE 0.0s\n",
      "\n",
      "#2 [auth] library/ubuntu:pull token for registry-1.docker.io\n",
      "#2 DONE 0.0s\n",
      "\n",
      "#3 [internal] load metadata for docker.io/library/ubuntu:22.04\n",
      "#3 DONE 0.4s\n",
      "\n",
      "#4 [internal] load .dockerignore\n",
      "#4 transferring context: 2B done\n",
      "#4 DONE 0.0s\n",
      "\n",
      "#5 [1/5] FROM docker.io/library/ubuntu:22.04@sha256:a6d2b38300ce017add71440577d5b0a90460d0e57fd7aec21dd0d1b0761bbfb2\n",
      "#5 DONE 0.0s\n",
      "\n",
      "#6 [internal] load build context\n",
      "#6 transferring context: 1.08kB done\n",
      "#6 DONE 0.0s\n",
      "\n",
      "#7 [2/5] RUN apt update &&     apt install software-properties-common -y &&     apt install curl -y &&     curl https://bootstrap.pypa.io/get-pip.py -o get-pip.py &&     python3 get-pip.py &&     apt autoremove -y &&     rm -rf /var/lib/apt/lists/*\n",
      "#7 CACHED\n",
      "\n",
      "#8 [3/5] RUN pip install grpcio grpcio-tools networkx cdlib leidenalg\n",
      "#8 CACHED\n",
      "\n",
      "#9 [4/5] COPY . /opt/cd\n",
      "#9 CACHED\n",
      "\n",
      "#10 [5/5] RUN pip install /opt/cd\n",
      "#10 CACHED\n",
      "\n",
      "#11 exporting to image\n",
      "#11 exporting layers done\n",
      "#11 writing image sha256:71559158554198d010920ab8de63f03eacd57bdc22f11c63279e8d73cfc3b03e done\n",
      "#11 naming to docker.io/library/cd1 done\n",
      "#11 DONE 0.0s\n"
     ]
    }
   ],
   "source": [
    "n = RBPots(locations=np.array([[0,0] , [1,1], [0,1], [1,0], [10,10]]), measurements = np.array([5,5,5,5, 10]).reshape(-1,1))"
   ]
  },
  {
   "cell_type": "code",
   "execution_count": 3,
   "id": "d32c7e72-5209-448c-8677-f8a2fa207e7f",
   "metadata": {},
   "outputs": [],
   "source": [
    "n.cluster()"
   ]
  },
  {
   "cell_type": "code",
   "execution_count": 4,
   "id": "a2a670ab-d9f0-4db2-85b8-bc7ca232ffbc",
   "metadata": {},
   "outputs": [
    {
     "data": {
      "text/plain": [
       "array([0, 0, 0, 0, 0])"
      ]
     },
     "execution_count": 4,
     "metadata": {},
     "output_type": "execute_result"
    }
   ],
   "source": [
    "n.labels"
   ]
  },
  {
   "cell_type": "code",
   "execution_count": 5,
   "id": "049a2e5f-20f7-4ed1-9f07-eff0ecf381e8",
   "metadata": {},
   "outputs": [],
   "source": [
    "r = RBPots(locations=np.array([[0,0] , [1,1], [0,1], [1,0], [10,10]]), measurements = np.array([5,5,5,5, 10]).reshape(-1,1))"
   ]
  },
  {
   "cell_type": "code",
   "execution_count": 6,
   "id": "6dbaf907-e4e0-497d-8713-852357cd7d4f",
   "metadata": {},
   "outputs": [],
   "source": [
    "r.cluster()"
   ]
  },
  {
   "cell_type": "code",
   "execution_count": 7,
   "id": "4106cbe0-1396-4d2f-9505-5c309831bf67",
   "metadata": {},
   "outputs": [
    {
     "data": {
      "text/plain": [
       "array([0, 0, 0, 0, 0])"
      ]
     },
     "execution_count": 7,
     "metadata": {},
     "output_type": "execute_result"
    }
   ],
   "source": [
    "r.labels"
   ]
  },
  {
   "cell_type": "code",
   "execution_count": 9,
   "id": "8be497a2-b13b-455b-a6c4-fb8e653679f6",
   "metadata": {},
   "outputs": [
    {
     "name": "stderr",
     "output_type": "stream",
     "text": [
      "#0 building with \"desktop-linux\" instance using docker driver\n",
      "\n",
      "#1 [internal] load build definition from Dockerfile\n",
      "#1 transferring dockerfile: 465B done\n",
      "#1 DONE 0.0s\n",
      "\n",
      "#2 [internal] load metadata for docker.io/library/ubuntu:22.04\n",
      "#2 DONE 0.1s\n",
      "\n",
      "#3 [internal] load .dockerignore\n",
      "#3 transferring context: 2B done\n",
      "#3 DONE 0.0s\n",
      "\n",
      "#4 [1/5] FROM docker.io/library/ubuntu:22.04@sha256:a6d2b38300ce017add71440577d5b0a90460d0e57fd7aec21dd0d1b0761bbfb2\n",
      "#4 DONE 0.0s\n",
      "\n",
      "#5 [internal] load build context\n",
      "#5 transferring context: 1.08kB done\n",
      "#5 DONE 0.0s\n",
      "\n",
      "#6 [2/5] RUN apt update &&     apt install software-properties-common -y &&     apt install curl -y &&     curl https://bootstrap.pypa.io/get-pip.py -o get-pip.py &&     python3 get-pip.py &&     apt autoremove -y &&     rm -rf /var/lib/apt/lists/*\n",
      "#6 CACHED\n",
      "\n",
      "#7 [3/5] RUN pip install grpcio grpcio-tools networkx cdlib leidenalg\n",
      "#7 CACHED\n",
      "\n",
      "#8 [4/5] COPY . /opt/cd\n",
      "#8 CACHED\n",
      "\n",
      "#9 [5/5] RUN pip install /opt/cd\n",
      "#9 CACHED\n",
      "\n",
      "#10 exporting to image\n",
      "#10 exporting layers done\n",
      "#10 writing image sha256:71559158554198d010920ab8de63f03eacd57bdc22f11c63279e8d73cfc3b03e done\n",
      "#10 naming to docker.io/library/cd1 done\n",
      "#10 DONE 0.0s\n"
     ]
    }
   ],
   "source": [
    "r.rebuild_docker()"
   ]
  },
  {
   "cell_type": "code",
   "execution_count": 10,
   "id": "2de75cd2-e81f-4627-aa2f-ceaeb2283946",
   "metadata": {},
   "outputs": [],
   "source": [
    "r2 = RBPots(locations=np.array([[0,0] , [1,1], [0,1], [1,0], [10,10]]), measurements = np.array([5,5,5,5, 10]).reshape(-1,1))"
   ]
  },
  {
   "cell_type": "code",
   "execution_count": 11,
   "id": "d4b4e56c-2004-4880-9b73-ae67de72457c",
   "metadata": {},
   "outputs": [],
   "source": [
    "r2.cluster()"
   ]
  },
  {
   "cell_type": "code",
   "execution_count": 12,
   "id": "ff43923c-b6da-4d68-bc34-9e7f9dc1945f",
   "metadata": {},
   "outputs": [
    {
     "data": {
      "text/plain": [
       "array([0, 0, 0, 0, 0])"
      ]
     },
     "execution_count": 12,
     "metadata": {},
     "output_type": "execute_result"
    }
   ],
   "source": [
    "r2.labels"
   ]
  },
  {
   "cell_type": "code",
   "execution_count": 10,
   "id": "b692adb9-83ac-4aba-8372-c35a750f3e30",
   "metadata": {},
   "outputs": [],
   "source": [
    "graph_data = json.loads(n.graph_to_send.data)"
   ]
  },
  {
   "cell_type": "code",
   "execution_count": 17,
   "id": "b2d62d73-e7c3-4243-ac3b-1199335153a4",
   "metadata": {},
   "outputs": [
    {
     "data": {
      "text/plain": [
       "{'directed': False,\n",
       " 'multigraph': False,\n",
       " 'graph': {},\n",
       " 'nodes': [{'pos': ['0', '0'], 'Labels': 0, 'id': 0},\n",
       "  {'pos': ['1', '1'], 'Labels': 0, 'id': 1},\n",
       "  {'pos': ['0', '1'], 'Labels': 0, 'id': 2},\n",
       "  {'pos': ['1', '0'], 'Labels': 0, 'id': 3},\n",
       "  {'pos': ['10', '10'], 'Labels': 1, 'id': 4}],\n",
       " 'links': [{'Distance': 0.0, 'Weight': 1.0, 'source': 0, 'target': '2'},\n",
       "  {'Distance': 0.0, 'Weight': 1.0, 'source': 0, 'target': '3'},\n",
       "  {'Distance': 0.0, 'Weight': 1.0, 'source': 1, 'target': '2'},\n",
       "  {'Distance': 0.0, 'Weight': 1.0, 'source': 1, 'target': '3'},\n",
       "  {'Distance': 5.0,\n",
       "   'Weight': 1.3887943864964021e-11,\n",
       "   'source': 1,\n",
       "   'target': '4'},\n",
       "  {'Distance': 0.0, 'Weight': 1.0, 'source': 2, 'target': '3'},\n",
       "  {'Distance': 5.0,\n",
       "   'Weight': 1.3887943864964021e-11,\n",
       "   'source': 2,\n",
       "   'target': '4'},\n",
       "  {'Distance': 5.0,\n",
       "   'Weight': 1.3887943864964021e-11,\n",
       "   'source': 3,\n",
       "   'target': '4'}]}"
      ]
     },
     "execution_count": 17,
     "metadata": {},
     "output_type": "execute_result"
    }
   ],
   "source": [
    "graph_data"
   ]
  },
  {
   "cell_type": "code",
   "execution_count": 23,
   "id": "c717e6ec-6111-4f99-a0ad-cbe53ffd2bd1",
   "metadata": {},
   "outputs": [
    {
     "data": {
      "text/plain": [
       "int"
      ]
     },
     "execution_count": 23,
     "metadata": {},
     "output_type": "execute_result"
    }
   ],
   "source": [
    "np.int64(2)"
   ]
  },
  {
   "cell_type": "code",
   "execution_count": null,
   "id": "6eabe394-7147-45f6-82d0-43fb389ff925",
   "metadata": {},
   "outputs": [],
   "source": []
  }
 ],
 "metadata": {
  "kernelspec": {
   "display_name": "hermes2",
   "language": "python",
   "name": "hermes2"
  },
  "language_info": {
   "codemirror_mode": {
    "name": "ipython",
    "version": 3
   },
   "file_extension": ".py",
   "mimetype": "text/x-python",
   "name": "python",
   "nbconvert_exporter": "python",
   "pygments_lexer": "ipython3",
   "version": "3.11.9"
  }
 },
 "nbformat": 4,
 "nbformat_minor": 5
}
